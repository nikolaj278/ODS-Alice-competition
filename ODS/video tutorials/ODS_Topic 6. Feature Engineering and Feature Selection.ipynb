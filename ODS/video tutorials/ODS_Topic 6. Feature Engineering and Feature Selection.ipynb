{
 "cells": [
  {
   "cell_type": "code",
   "execution_count": 6,
   "id": "6beffdfc-74fc-4618-830e-7a0573f6b4b8",
   "metadata": {},
   "outputs": [],
   "source": [
    "import os\n",
    "from pathlib import Path\n",
    "from pprint import pprint\n",
    "import numpy as np\n",
    "import pandas as pd\n",
    "\n",
    "def download_file_from_gdrive(file_url, filename, out_path: Path, overwrite=False):\n",
    "    \"\"\"\n",
    "    Downloads a file from GDrive given an URL\n",
    "    :param file_url: a string formated as https://drive.google.com/uc?id=<file_id>\n",
    "    :param: the desired file name\n",
    "    :param: the desired folder where the file will be downloaded to\n",
    "    :param overwrite: whether to overwrite the file if it already exists\n",
    "    \"\"\"\n",
    "    file_exists = os.path.exists(f'{out_path}/{filename}')\n",
    "\n",
    "    if (file_exists and overwrite) or (not file_exists):\n",
    "        os.system(f'gdown {file_url} -O {out_path}/{filename}')"
   ]
  },
  {
   "cell_type": "code",
   "execution_count": 11,
   "id": "5e64bfe9-fea6-4da7-b034-e524df8f12d1",
   "metadata": {},
   "outputs": [],
   "source": [
    "FILE_URL = \"https://drive.google.com/uc?id=1N8eav5HWd6A7rG0ZCRo7rNFryqZS4tVg\"\n",
    "FILE_NAME = \"train.json\"\n",
    "DATA_PATH = Path(\"/Users/nikolaj/Desktop/DataScince/ODS\")"
   ]
  },
  {
   "cell_type": "code",
   "execution_count": 12,
   "id": "14491bb8-82ce-4bc4-8902-9ba03e582f7a",
   "metadata": {},
   "outputs": [],
   "source": [
    "df = pd.read_json(DATA_PATH / FILE_NAME,\n",
    "                  convert_dates=['created'])"
   ]
  },
  {
   "cell_type": "code",
   "execution_count": 13,
   "id": "bd722534-2dc3-4a25-8cd2-183a0eb694a8",
   "metadata": {
    "scrolled": true
   },
   "outputs": [
    {
     "data": {
      "text/html": [
       "<div>\n",
       "<style scoped>\n",
       "    .dataframe tbody tr th:only-of-type {\n",
       "        vertical-align: middle;\n",
       "    }\n",
       "\n",
       "    .dataframe tbody tr th {\n",
       "        vertical-align: top;\n",
       "    }\n",
       "\n",
       "    .dataframe thead th {\n",
       "        text-align: right;\n",
       "    }\n",
       "</style>\n",
       "<table border=\"1\" class=\"dataframe\">\n",
       "  <thead>\n",
       "    <tr style=\"text-align: right;\">\n",
       "      <th></th>\n",
       "      <th>bathrooms</th>\n",
       "      <th>bedrooms</th>\n",
       "      <th>building_id</th>\n",
       "      <th>created</th>\n",
       "      <th>description</th>\n",
       "      <th>display_address</th>\n",
       "      <th>features</th>\n",
       "      <th>latitude</th>\n",
       "      <th>listing_id</th>\n",
       "      <th>longitude</th>\n",
       "      <th>manager_id</th>\n",
       "      <th>photos</th>\n",
       "      <th>price</th>\n",
       "      <th>street_address</th>\n",
       "      <th>interest_level</th>\n",
       "    </tr>\n",
       "  </thead>\n",
       "  <tbody>\n",
       "    <tr>\n",
       "      <th>4</th>\n",
       "      <td>1.0</td>\n",
       "      <td>1</td>\n",
       "      <td>8579a0b0d54db803821a35a4a615e97a</td>\n",
       "      <td>2016-06-16 05:55:27</td>\n",
       "      <td>Spacious 1 Bedroom 1 Bathroom in Williamsburg!...</td>\n",
       "      <td>145 Borinquen Place</td>\n",
       "      <td>[Dining Room, Pre-War, Laundry in Building, Di...</td>\n",
       "      <td>40.7108</td>\n",
       "      <td>7170325</td>\n",
       "      <td>-73.9539</td>\n",
       "      <td>a10db4590843d78c784171a107bdacb4</td>\n",
       "      <td>[https://photos.renthop.com/2/7170325_3bb5ac84...</td>\n",
       "      <td>2400</td>\n",
       "      <td>145 Borinquen Place</td>\n",
       "      <td>medium</td>\n",
       "    </tr>\n",
       "    <tr>\n",
       "      <th>6</th>\n",
       "      <td>1.0</td>\n",
       "      <td>2</td>\n",
       "      <td>b8e75fc949a6cd8225b455648a951712</td>\n",
       "      <td>2016-06-01 05:44:33</td>\n",
       "      <td>BRAND NEW GUT RENOVATED TRUE 2 BEDROOMFind you...</td>\n",
       "      <td>East 44th</td>\n",
       "      <td>[Doorman, Elevator, Laundry in Building, Dishw...</td>\n",
       "      <td>40.7513</td>\n",
       "      <td>7092344</td>\n",
       "      <td>-73.9722</td>\n",
       "      <td>955db33477af4f40004820b4aed804a0</td>\n",
       "      <td>[https://photos.renthop.com/2/7092344_7663c19a...</td>\n",
       "      <td>3800</td>\n",
       "      <td>230 East 44th</td>\n",
       "      <td>low</td>\n",
       "    </tr>\n",
       "    <tr>\n",
       "      <th>9</th>\n",
       "      <td>1.0</td>\n",
       "      <td>2</td>\n",
       "      <td>cd759a988b8f23924b5a2058d5ab2b49</td>\n",
       "      <td>2016-06-14 15:19:59</td>\n",
       "      <td>**FLEX 2 BEDROOM WITH FULL PRESSURIZED WALL**L...</td>\n",
       "      <td>East 56th Street</td>\n",
       "      <td>[Doorman, Elevator, Laundry in Building, Laund...</td>\n",
       "      <td>40.7575</td>\n",
       "      <td>7158677</td>\n",
       "      <td>-73.9625</td>\n",
       "      <td>c8b10a317b766204f08e613cef4ce7a0</td>\n",
       "      <td>[https://photos.renthop.com/2/7158677_c897a134...</td>\n",
       "      <td>3495</td>\n",
       "      <td>405 East 56th Street</td>\n",
       "      <td>medium</td>\n",
       "    </tr>\n",
       "    <tr>\n",
       "      <th>10</th>\n",
       "      <td>1.5</td>\n",
       "      <td>3</td>\n",
       "      <td>53a5b119ba8f7b61d4e010512e0dfc85</td>\n",
       "      <td>2016-06-24 07:54:24</td>\n",
       "      <td>A Brand New 3 Bedroom 1.5 bath ApartmentEnjoy ...</td>\n",
       "      <td>Metropolitan Avenue</td>\n",
       "      <td>[]</td>\n",
       "      <td>40.7145</td>\n",
       "      <td>7211212</td>\n",
       "      <td>-73.9425</td>\n",
       "      <td>5ba989232d0489da1b5f2c45f6688adc</td>\n",
       "      <td>[https://photos.renthop.com/2/7211212_1ed4542e...</td>\n",
       "      <td>3000</td>\n",
       "      <td>792 Metropolitan Avenue</td>\n",
       "      <td>medium</td>\n",
       "    </tr>\n",
       "    <tr>\n",
       "      <th>15</th>\n",
       "      <td>1.0</td>\n",
       "      <td>0</td>\n",
       "      <td>bfb9405149bfff42a92980b594c28234</td>\n",
       "      <td>2016-06-28 03:50:23</td>\n",
       "      <td>Over-sized Studio w abundant closets. Availabl...</td>\n",
       "      <td>East 34th Street</td>\n",
       "      <td>[Doorman, Elevator, Fitness Center, Laundry in...</td>\n",
       "      <td>40.7439</td>\n",
       "      <td>7225292</td>\n",
       "      <td>-73.9743</td>\n",
       "      <td>2c3b41f588fbb5234d8a1e885a436cfa</td>\n",
       "      <td>[https://photos.renthop.com/2/7225292_901f1984...</td>\n",
       "      <td>2795</td>\n",
       "      <td>340 East 34th Street</td>\n",
       "      <td>low</td>\n",
       "    </tr>\n",
       "  </tbody>\n",
       "</table>\n",
       "</div>"
      ],
      "text/plain": [
       "    bathrooms  bedrooms                       building_id             created  \\\n",
       "4         1.0         1  8579a0b0d54db803821a35a4a615e97a 2016-06-16 05:55:27   \n",
       "6         1.0         2  b8e75fc949a6cd8225b455648a951712 2016-06-01 05:44:33   \n",
       "9         1.0         2  cd759a988b8f23924b5a2058d5ab2b49 2016-06-14 15:19:59   \n",
       "10        1.5         3  53a5b119ba8f7b61d4e010512e0dfc85 2016-06-24 07:54:24   \n",
       "15        1.0         0  bfb9405149bfff42a92980b594c28234 2016-06-28 03:50:23   \n",
       "\n",
       "                                          description      display_address  \\\n",
       "4   Spacious 1 Bedroom 1 Bathroom in Williamsburg!...  145 Borinquen Place   \n",
       "6   BRAND NEW GUT RENOVATED TRUE 2 BEDROOMFind you...            East 44th   \n",
       "9   **FLEX 2 BEDROOM WITH FULL PRESSURIZED WALL**L...     East 56th Street   \n",
       "10  A Brand New 3 Bedroom 1.5 bath ApartmentEnjoy ...  Metropolitan Avenue   \n",
       "15  Over-sized Studio w abundant closets. Availabl...     East 34th Street   \n",
       "\n",
       "                                             features  latitude  listing_id  \\\n",
       "4   [Dining Room, Pre-War, Laundry in Building, Di...   40.7108     7170325   \n",
       "6   [Doorman, Elevator, Laundry in Building, Dishw...   40.7513     7092344   \n",
       "9   [Doorman, Elevator, Laundry in Building, Laund...   40.7575     7158677   \n",
       "10                                                 []   40.7145     7211212   \n",
       "15  [Doorman, Elevator, Fitness Center, Laundry in...   40.7439     7225292   \n",
       "\n",
       "    longitude                        manager_id  \\\n",
       "4    -73.9539  a10db4590843d78c784171a107bdacb4   \n",
       "6    -73.9722  955db33477af4f40004820b4aed804a0   \n",
       "9    -73.9625  c8b10a317b766204f08e613cef4ce7a0   \n",
       "10   -73.9425  5ba989232d0489da1b5f2c45f6688adc   \n",
       "15   -73.9743  2c3b41f588fbb5234d8a1e885a436cfa   \n",
       "\n",
       "                                               photos  price  \\\n",
       "4   [https://photos.renthop.com/2/7170325_3bb5ac84...   2400   \n",
       "6   [https://photos.renthop.com/2/7092344_7663c19a...   3800   \n",
       "9   [https://photos.renthop.com/2/7158677_c897a134...   3495   \n",
       "10  [https://photos.renthop.com/2/7211212_1ed4542e...   3000   \n",
       "15  [https://photos.renthop.com/2/7225292_901f1984...   2795   \n",
       "\n",
       "             street_address interest_level  \n",
       "4       145 Borinquen Place         medium  \n",
       "6             230 East 44th            low  \n",
       "9      405 East 56th Street         medium  \n",
       "10  792 Metropolitan Avenue         medium  \n",
       "15     340 East 34th Street            low  "
      ]
     },
     "execution_count": 13,
     "metadata": {},
     "output_type": "execute_result"
    }
   ],
   "source": [
    "df.head()"
   ]
  },
  {
   "cell_type": "code",
   "execution_count": 22,
   "id": "675c461f-0fcd-44ec-8b13-dda808a38b0b",
   "metadata": {},
   "outputs": [
    {
     "data": {
      "text/plain": [
       "(array([[1, 1, 1],\n",
       "        [1, 1, 1]]),\n",
       " {'no': 2, 'have': 1, 'cows': 0})"
      ]
     },
     "execution_count": 22,
     "metadata": {},
     "output_type": "execute_result"
    }
   ],
   "source": [
    "from sklearn.feature_extraction.text import CountVectorizer\n",
    "\n",
    "vect = CountVectorizer(ngram_range=(1, 1))\n",
    "vect.fit_transform([\"no i have cows\", \"i have no cows\"]).toarray(), vect.vocabulary_"
   ]
  },
  {
   "cell_type": "code",
   "execution_count": 23,
   "id": "76b03ddf-8da7-481c-99cc-b0979407f757",
   "metadata": {},
   "outputs": [
    {
     "data": {
      "text/plain": [
       "(array([[1, 1, 1, 0, 1, 0, 1],\n",
       "        [1, 1, 0, 1, 1, 1, 0]]),\n",
       " {'no': 4,\n",
       "  'have': 1,\n",
       "  'cows': 0,\n",
       "  'no have': 6,\n",
       "  'have cows': 2,\n",
       "  'have no': 3,\n",
       "  'no cows': 5})"
      ]
     },
     "execution_count": 23,
     "metadata": {},
     "output_type": "execute_result"
    }
   ],
   "source": [
    "vect = CountVectorizer(ngram_range=(1, 2))\n",
    "vect.fit_transform([\"no i have cows\", \"i have no cows\"]).toarray(), vect.vocabulary_"
   ]
  },
  {
   "cell_type": "code",
   "execution_count": null,
   "id": "d39f90c1-e2e1-4c0a-ba70-8dd3f9153770",
   "metadata": {},
   "outputs": [],
   "source": [
    "from scipy.spatial.distance import euclidean\n",
    "from sklearn.feature_extraction.text import CountVectorizer\n",
    "\n",
    "vect = CountVectorizer(ngram_range=(3, 3), analyzer=\"char_wb\")\n",
    "\n",
    "n1, n2, n3, n4 = vect.fit_transform(\n",
    "    [\"andersen\", \"petersen\", \"petrov\", \"smith\"]\n",
    ").toarray()\n",
    "\n",
    "euclidean(n1, n2), euclidean(n2, n3), euclidean(n3, n4)"
   ]
  },
  {
   "cell_type": "markdown",
   "id": "b983e405-3e53-4d2f-9dde-3585b318cafd",
   "metadata": {},
   "source": [
    "## Feature transformations"
   ]
  },
  {
   "cell_type": "markdown",
   "id": "dcb7502a-84fb-4c77-99bd-e127c76df765",
   "metadata": {},
   "source": [
    "### Normalization and changing distribution"
   ]
  },
  {
   "cell_type": "code",
   "execution_count": 24,
   "id": "11896229-44c5-4d7c-a509-e7dd8474183e",
   "metadata": {},
   "outputs": [
    {
     "data": {
      "text/plain": [
       "ShapiroResult(statistic=np.float64(0.8535712323007012), pvalue=np.float64(1.8779479698665446e-29))"
      ]
     },
     "execution_count": 24,
     "metadata": {},
     "output_type": "execute_result"
    }
   ],
   "source": [
    "import numpy as np\n",
    "from scipy.stats import beta, shapiro\n",
    "from sklearn.preprocessing import StandardScaler\n",
    "\n",
    "data = beta(1, 10).rvs(1000).reshape(-1, 1)\n",
    "shapiro(data)"
   ]
  },
  {
   "cell_type": "code",
   "execution_count": 28,
   "id": "c86f465d-d0ae-44d7-a210-ca574619c55d",
   "metadata": {},
   "outputs": [
    {
     "data": {
      "text/plain": [
       "array([[-0.31922662],\n",
       "       [-0.31922662],\n",
       "       [-0.35434155],\n",
       "       [-0.38945648],\n",
       "       [-0.28411169],\n",
       "       [-0.31922662],\n",
       "       [-0.28411169],\n",
       "       [-0.24899676],\n",
       "       [-0.42457141],\n",
       "       [-0.21388184],\n",
       "       [ 3.15715128]])"
      ]
     },
     "execution_count": 28,
     "metadata": {},
     "output_type": "execute_result"
    }
   ],
   "source": [
    "data = np.array([1, 1, 0, -1, 2, 1, 2, 3, -2, 4, 100]).reshape(-1, 1).astype(np.float64)\n",
    "StandardScaler().fit_transform(data)"
   ]
  },
  {
   "cell_type": "code",
   "execution_count": 29,
   "id": "51f29eae-8b49-4256-bbf5-a36d4847e431",
   "metadata": {},
   "outputs": [
    {
     "data": {
      "text/plain": [
       "array([[-0.31922662],\n",
       "       [-0.31922662],\n",
       "       [-0.35434155],\n",
       "       [-0.38945648],\n",
       "       [-0.28411169],\n",
       "       [-0.31922662],\n",
       "       [-0.28411169],\n",
       "       [-0.24899676],\n",
       "       [-0.42457141],\n",
       "       [-0.21388184],\n",
       "       [ 3.15715128]])"
      ]
     },
     "execution_count": 29,
     "metadata": {},
     "output_type": "execute_result"
    }
   ],
   "source": [
    "(data - data.mean()) / data.std()"
   ]
  },
  {
   "cell_type": "code",
   "execution_count": 30,
   "id": "20cb8e51-a717-41ee-ba03-79350738273c",
   "metadata": {},
   "outputs": [
    {
     "data": {
      "text/plain": [
       "array([[0.02941176],\n",
       "       [0.02941176],\n",
       "       [0.01960784],\n",
       "       [0.00980392],\n",
       "       [0.03921569],\n",
       "       [0.02941176],\n",
       "       [0.03921569],\n",
       "       [0.04901961],\n",
       "       [0.        ],\n",
       "       [0.05882353],\n",
       "       [1.        ]])"
      ]
     },
     "execution_count": 30,
     "metadata": {},
     "output_type": "execute_result"
    }
   ],
   "source": [
    "from sklearn.preprocessing import MinMaxScaler\n",
    "\n",
    "MinMaxScaler().fit_transform(data)"
   ]
  },
  {
   "cell_type": "code",
   "execution_count": 33,
   "id": "7044dc69-8ad6-4235-b036-729d7b38a922",
   "metadata": {},
   "outputs": [
    {
     "name": "stdout",
     "output_type": "stream",
     "text": [
      "-0.3412791106327758\n",
      "-0.4267475299690961\n",
      "-0.3381039502140517\n"
     ]
    }
   ],
   "source": [
    "# Synthetic example\n",
    "\n",
    "from sklearn.datasets import make_classification\n",
    "from sklearn.ensemble import RandomForestClassifier\n",
    "from sklearn.feature_selection import SelectFromModel\n",
    "from sklearn.model_selection import cross_val_score\n",
    "from sklearn.pipeline import make_pipeline\n",
    "from sklearn.linear_model import LogisticRegression\n",
    "\n",
    "logit = LogisticRegression(solver=\"lbfgs\", random_state=17)\n",
    "\n",
    "x_data_generated, y_data_generated = make_classification()\n",
    "\n",
    "rf = RandomForestClassifier(n_estimators=10, random_state=17)\n",
    "pipe = make_pipeline(SelectFromModel(estimator=rf), logit)\n",
    "\n",
    "print(\n",
    "    cross_val_score(\n",
    "        logit, x_data_generated, y_data_generated, scoring=\"neg_log_loss\", cv=5\n",
    "    ).mean()\n",
    ")\n",
    "print(\n",
    "    cross_val_score(\n",
    "        rf, x_data_generated, y_data_generated, scoring=\"neg_log_loss\", cv=5\n",
    "    ).mean()\n",
    ")\n",
    "print(\n",
    "    cross_val_score(\n",
    "        pipe, x_data_generated, y_data_generated, scoring=\"neg_log_loss\", cv=5\n",
    "    ).mean()\n",
    ")"
   ]
  },
  {
   "cell_type": "code",
   "execution_count": 34,
   "id": "932a6849-cbc1-469d-afa4-c7e9fb7d7fc1",
   "metadata": {},
   "outputs": [
    {
     "name": "stdout",
     "output_type": "stream",
     "text": [
      "LR + selection:  -0.34060055991938876\n",
      "LR:  -0.34748392382242244\n",
      "RF:  -0.4267475299690961\n"
     ]
    }
   ],
   "source": [
    "# x_data, y_data = get_data()\n",
    "x_data = x_data_generated\n",
    "y_data = y_data_generated\n",
    "\n",
    "pipe1 = make_pipeline(StandardScaler(), SelectFromModel(estimator=rf), logit)\n",
    "\n",
    "pipe2 = make_pipeline(StandardScaler(), logit)\n",
    "\n",
    "print(\n",
    "    \"LR + selection: \",\n",
    "    cross_val_score(pipe1, x_data, y_data, scoring=\"neg_log_loss\", cv=5).mean(),\n",
    ")\n",
    "print(\n",
    "    \"LR: \", cross_val_score(pipe2, x_data, y_data, scoring=\"neg_log_loss\", cv=5).mean()\n",
    ")\n",
    "print(\"RF: \", cross_val_score(rf, x_data, y_data, scoring=\"neg_log_loss\", cv=5).mean())"
   ]
  },
  {
   "cell_type": "code",
   "execution_count": null,
   "id": "26cf271f-2226-45f4-8e97-80a089b7ac13",
   "metadata": {},
   "outputs": [],
   "source": [
    "# Install mlxtend\n",
    "from mlxtend.feature_selection import SequentialFeatureSelector\n",
    "\n",
    "selector = SequentialFeatureSelector(\n",
    "    logit, scoring=\"neg_log_loss\", verbose=2, k_features=3, forward=False, n_jobs=-1\n",
    ")\n",
    "\n",
    "selector.fit(x_data, y_data)"
   ]
  },
  {
   "cell_type": "code",
   "execution_count": null,
   "id": "c206b6eb-ba8c-446e-90e4-25adb1250a3f",
   "metadata": {},
   "outputs": [],
   "source": []
  },
  {
   "cell_type": "code",
   "execution_count": null,
   "id": "583731ff-249c-4790-b5fd-9683e789086d",
   "metadata": {},
   "outputs": [],
   "source": []
  },
  {
   "cell_type": "code",
   "execution_count": null,
   "id": "45e93c06-808e-4359-8d74-749a461c383c",
   "metadata": {},
   "outputs": [],
   "source": []
  },
  {
   "cell_type": "code",
   "execution_count": null,
   "id": "4317da1c-05a6-4909-9b3d-2bd623711690",
   "metadata": {},
   "outputs": [],
   "source": []
  },
  {
   "cell_type": "code",
   "execution_count": null,
   "id": "efdbb2cf-ffc9-4838-9896-4cf38f049d95",
   "metadata": {},
   "outputs": [],
   "source": []
  },
  {
   "cell_type": "code",
   "execution_count": null,
   "id": "d8ec82fd-9b42-4472-bd95-7197be6a0bd7",
   "metadata": {},
   "outputs": [],
   "source": []
  },
  {
   "cell_type": "code",
   "execution_count": null,
   "id": "27e1f229-1102-43c6-abe6-b98d94b9b383",
   "metadata": {},
   "outputs": [],
   "source": []
  },
  {
   "cell_type": "code",
   "execution_count": null,
   "id": "75b1a195-add9-4280-b193-0760823b69cf",
   "metadata": {},
   "outputs": [],
   "source": []
  },
  {
   "cell_type": "code",
   "execution_count": null,
   "id": "f9992e57-b259-4f6c-85d9-d8636b01a61e",
   "metadata": {},
   "outputs": [],
   "source": []
  },
  {
   "cell_type": "code",
   "execution_count": null,
   "id": "69243e58-a79e-44ab-b11b-40d8d5f4f525",
   "metadata": {},
   "outputs": [],
   "source": []
  },
  {
   "cell_type": "code",
   "execution_count": null,
   "id": "3a6fd453-3410-43b7-b3ba-1e11ead18a9a",
   "metadata": {},
   "outputs": [],
   "source": []
  },
  {
   "cell_type": "code",
   "execution_count": null,
   "id": "cb3916ab-e5be-404a-8b44-00885bb53ea6",
   "metadata": {},
   "outputs": [],
   "source": [
    "\n"
   ]
  },
  {
   "cell_type": "code",
   "execution_count": null,
   "id": "72b99088-e574-42f9-8e43-6b7a522fd919",
   "metadata": {},
   "outputs": [],
   "source": []
  },
  {
   "cell_type": "code",
   "execution_count": null,
   "id": "e420536c-10be-49e7-8c83-f8750b8dc02b",
   "metadata": {},
   "outputs": [],
   "source": []
  },
  {
   "cell_type": "code",
   "execution_count": null,
   "id": "83bb7ba5-2b08-412f-b95f-7aac3a9401cb",
   "metadata": {},
   "outputs": [],
   "source": []
  },
  {
   "cell_type": "code",
   "execution_count": null,
   "id": "a522069a-448f-4d43-a92e-eb4baad346d7",
   "metadata": {},
   "outputs": [],
   "source": []
  },
  {
   "cell_type": "code",
   "execution_count": null,
   "id": "9b6d061c-ae9b-4d4b-a6e7-9316f7c7d9c2",
   "metadata": {},
   "outputs": [],
   "source": []
  },
  {
   "cell_type": "code",
   "execution_count": null,
   "id": "42d257a7-3d74-434c-b559-acddbf98b67f",
   "metadata": {},
   "outputs": [],
   "source": []
  },
  {
   "cell_type": "code",
   "execution_count": null,
   "id": "852f5c85-ff9c-43cc-b59d-2b451a1a2e25",
   "metadata": {},
   "outputs": [],
   "source": []
  },
  {
   "cell_type": "code",
   "execution_count": null,
   "id": "1ff6d992-47e8-4e70-a46a-e4d2cb5782c5",
   "metadata": {},
   "outputs": [],
   "source": []
  },
  {
   "cell_type": "code",
   "execution_count": null,
   "id": "727eed3e-0656-442b-9310-44eaf3eb2d77",
   "metadata": {},
   "outputs": [],
   "source": []
  }
 ],
 "metadata": {
  "kernelspec": {
   "display_name": "Python 3 (ipykernel)",
   "language": "python",
   "name": "python3"
  },
  "language_info": {
   "codemirror_mode": {
    "name": "ipython",
    "version": 3
   },
   "file_extension": ".py",
   "mimetype": "text/x-python",
   "name": "python",
   "nbconvert_exporter": "python",
   "pygments_lexer": "ipython3",
   "version": "3.11.11"
  }
 },
 "nbformat": 4,
 "nbformat_minor": 5
}
